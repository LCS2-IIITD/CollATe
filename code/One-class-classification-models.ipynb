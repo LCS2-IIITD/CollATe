{
 "cells": [
  {
   "cell_type": "code",
   "execution_count": 389,
   "metadata": {},
   "outputs": [],
   "source": [
    "from sklearn import svm\n",
    "import pandas as pd\n",
    "import numpy as np\n",
    "from sklearn.model_selection import GridSearchCV\n",
    "from sklearn.metrics import f1_score\n",
    "from matplotlib import pyplot as plt\n",
    "from sklearn.metrics import recall_score\n",
    "from sklearn.metrics import classification_report\n",
    "from sklearn.ensemble import IsolationForest\n",
    "from sklearn.covariance import EllipticEnvelope\n",
    "from sklearn.neighbors import LocalOutlierFactor\n",
    "from numpy import vstack\n",
    "from sklearn.model_selection import train_test_split\n",
    "import warnings\n",
    "warnings.filterwarnings('ignore')\n",
    "from sklearn.metrics import precision_recall_fscore_support, classification_report,confusion_matrix, precision_recall_curve"
   ]
  },
  {
   "cell_type": "markdown",
   "metadata": {},
   "source": [
    "# FOR CHANNEL DATA"
   ]
  },
  {
   "cell_type": "code",
   "execution_count": 390,
   "metadata": {
    "scrolled": true
   },
   "outputs": [
    {
     "name": "stdout",
     "output_type": "stream",
     "text": [
      "(7847, 7)\n"
     ]
    },
    {
     "data": {
      "text/html": [
       "<div>\n",
       "<style scoped>\n",
       "    .dataframe tbody tr th:only-of-type {\n",
       "        vertical-align: middle;\n",
       "    }\n",
       "\n",
       "    .dataframe tbody tr th {\n",
       "        vertical-align: top;\n",
       "    }\n",
       "\n",
       "    .dataframe thead th {\n",
       "        text-align: right;\n",
       "    }\n",
       "</style>\n",
       "<table border=\"1\" class=\"dataframe\">\n",
       "  <thead>\n",
       "    <tr style=\"text-align: right;\">\n",
       "      <th></th>\n",
       "      <th>hidden_subscriber_count</th>\n",
       "      <th>video_count</th>\n",
       "      <th>view_count</th>\n",
       "      <th>subscriber_count</th>\n",
       "      <th>comment_count</th>\n",
       "      <th>channel_id</th>\n",
       "      <th>target</th>\n",
       "    </tr>\n",
       "  </thead>\n",
       "  <tbody>\n",
       "    <tr>\n",
       "      <th>0</th>\n",
       "      <td>0</td>\n",
       "      <td>41</td>\n",
       "      <td>47614</td>\n",
       "      <td>428</td>\n",
       "      <td>0</td>\n",
       "      <td>UCzc3mk_DhB09J9k9sGjxXeQ</td>\n",
       "      <td>1</td>\n",
       "    </tr>\n",
       "    <tr>\n",
       "      <th>1</th>\n",
       "      <td>0</td>\n",
       "      <td>0</td>\n",
       "      <td>0</td>\n",
       "      <td>18</td>\n",
       "      <td>0</td>\n",
       "      <td>UCnGXyNWs0f6sEBcbA7gLnCw</td>\n",
       "      <td>1</td>\n",
       "    </tr>\n",
       "  </tbody>\n",
       "</table>\n",
       "</div>"
      ],
      "text/plain": [
       "   hidden_subscriber_count  video_count  view_count  subscriber_count  \\\n",
       "0                        0           41       47614               428   \n",
       "1                        0            0           0                18   \n",
       "\n",
       "   comment_count                channel_id  target  \n",
       "0              0  UCzc3mk_DhB09J9k9sGjxXeQ       1  \n",
       "1              0  UCnGXyNWs0f6sEBcbA7gLnCw       1  "
      ]
     },
     "execution_count": 390,
     "metadata": {},
     "output_type": "execute_result"
    }
   ],
   "source": [
    "df_channel=pd.read_csv('channel_data.csv',sep='\\t')\n",
    "df_channel['target']=1\n",
    "print(df_channel.shape)\n",
    "df_channel.head(2)"
   ]
  },
  {
   "cell_type": "code",
   "execution_count": 391,
   "metadata": {},
   "outputs": [],
   "source": [
    "X_train, X_test, y_train, y_test = train_test_split(df_channel.drop(columns=['target','channel_id'],axis=1),df_channel['target'], test_size=0.2, random_state=42)"
   ]
  },
  {
   "cell_type": "markdown",
   "metadata": {},
   "source": [
    "# SVM"
   ]
  },
  {
   "cell_type": "code",
   "execution_count": 395,
   "metadata": {},
   "outputs": [],
   "source": [
    "def svm_model(X_train,X_test,y_train,y_test,split,contamination):\n",
    "    \n",
    "    \n",
    "    #X_train, X_test, y_train, y_test = train_test_split(df_channel.drop(columns=['target','channel_id'],axis=1),df_channel['target'], test_size=split, random_state=42)\n",
    "\n",
    "    \n",
    "    print(\"results for splitting \",1-split,split)\n",
    "    print(X_train.shape,X_test.shape,y_train.shape,y_test.shape)\n",
    "    print(X_train.columns)\n",
    "    print(X_train.head(2))\n",
    "    print(\"nu is \",contamination)\n",
    "    \n",
    "    oneclass = svm.OneClassSVM(kernel='poly', gamma=1, nu=contamination,degree=4)\n",
    "\n",
    "    oneclass.fit(X_train)\n",
    "   \n",
    "    fraud_pred = oneclass.predict(X_test)\n",
    "    \n",
    "    print(\"unique fraud pred\",np.unique(fraud_pred))\n",
    "    \n",
    "    tn, fp, fn, tp = confusion_matrix(y_test,fraud_pred).ravel()\n",
    "    \n",
    "    print(\"true negative: \",tn,\"false positive\",fp,\"false negative\",fn,\"true positive\",tp)\n",
    "    \n",
    "    print(classification_report(y_test,fraud_pred))\n",
    "    print(\"Recall is \",recall_score(y_test,fraud_pred, average=None))\n",
    "    #print(\"Recall-micro is \",recall_score(y_test,fraud_pred, average='micro'))\n",
    "    #print(\"Recall-macro is \",recall_score(y_test,fraud_pred, average='macro'))\n",
    "    \n"
   ]
  },
  {
   "cell_type": "code",
   "execution_count": 396,
   "metadata": {},
   "outputs": [
    {
     "data": {
      "text/plain": [
       "Index(['hidden_subscriber_count', 'video_count', 'view_count',\n",
       "       'subscriber_count', 'comment_count'],\n",
       "      dtype='object')"
      ]
     },
     "execution_count": 396,
     "metadata": {},
     "output_type": "execute_result"
    }
   ],
   "source": [
    "X_train.columns"
   ]
  },
  {
   "cell_type": "code",
   "execution_count": 397,
   "metadata": {},
   "outputs": [
    {
     "name": "stdout",
     "output_type": "stream",
     "text": [
      "results for splitting  0.8 0.2\n",
      "(6277, 5) (1570, 5) (6277,) (1570,)\n",
      "Index(['hidden_subscriber_count', 'video_count', 'view_count',\n",
      "       'subscriber_count', 'comment_count'],\n",
      "      dtype='object')\n",
      "      hidden_subscriber_count  video_count  view_count  subscriber_count  \\\n",
      "2031                        0            7         171                27   \n",
      "1219                        0            9          23                 1   \n",
      "\n",
      "      comment_count  \n",
      "2031              0  \n",
      "1219              0  \n",
      "nu is  0.1\n",
      "unique fraud pred [-1  1]\n",
      "true negative:  0 false positive 0 false negative 141 true positive 1429\n",
      "              precision    recall  f1-score   support\n",
      "\n",
      "          -1       0.00      0.00      0.00         0\n",
      "           1       1.00      0.91      0.95      1570\n",
      "\n",
      "    accuracy                           0.91      1570\n",
      "   macro avg       0.50      0.46      0.48      1570\n",
      "weighted avg       1.00      0.91      0.95      1570\n",
      "\n",
      "Recall is  [0.         0.91019108]\n"
     ]
    }
   ],
   "source": [
    "svm_model(X_train,X_test,y_train,y_test,0.2,0.1)\n"
   ]
  },
  {
   "cell_type": "markdown",
   "metadata": {},
   "source": [
    "# ISOLATION FOREST"
   ]
  },
  {
   "cell_type": "code",
   "execution_count": 31,
   "metadata": {},
   "outputs": [],
   "source": [
    "def isolation_forest(X_train,X_test,y_train,y_test,split,contamination):\n",
    "    \n",
    "    #X_train, X_test, y_train, y_test = train_test_split(df_channel.drop(columns=['target','channel_id'],axis=1),df_channel['target'], test_size=split, random_state=42)\n",
    "    print(\"results for splitting \",1-split,split)\n",
    "    print(X_train.shape,X_test.shape,y_train.shape,y_test.shape)\n",
    "    \n",
    "    print(\"contamination is \",contamination)\n",
    "    isolation_model = IsolationForest(contamination=contamination)\n",
    "    isolation_model.fit(X_train)\n",
    "    fraud_pred = isolation_model.predict(X_test)\n",
    "    \n",
    "    print(\"unique fraud pred\",np.unique(fraud_pred))\n",
    "    \n",
    "    tn, fp, fn, tp = confusion_matrix(y_test,fraud_pred).ravel()\n",
    "    \n",
    "    print(\"true negative: \",tn,\"false positive\",fp,\"false negative\",fn,\"true positive\",tp)\n",
    "    \n",
    "    print(classification_report(y_test,fraud_pred))\n",
    "    print(\"Recall is \",recall_score(y_test,fraud_pred, average=None))\n",
    "\n",
    "    \n",
    "\n",
    "      \n",
    "    "
   ]
  },
  {
   "cell_type": "code",
   "execution_count": 32,
   "metadata": {},
   "outputs": [
    {
     "name": "stdout",
     "output_type": "stream",
     "text": [
      "results for splitting  0.8 0.2\n",
      "(6277, 5) (1570, 5) (6277,) (1570,)\n",
      "contamination is  0.1\n",
      "unique fraud pred [-1  1]\n",
      "true negative:  0 false positive 0 false negative 147 true positive 1423\n",
      "              precision    recall  f1-score   support\n",
      "\n",
      "          -1       0.00      0.00      0.00         0\n",
      "           1       1.00      0.91      0.95      1570\n",
      "\n",
      "    accuracy                           0.91      1570\n",
      "   macro avg       0.50      0.45      0.48      1570\n",
      "weighted avg       1.00      0.91      0.95      1570\n",
      "\n",
      "Recall is  [0.         0.90636943]\n"
     ]
    },
    {
     "name": "stderr",
     "output_type": "stream",
     "text": [
      "/home/himaninegi/.local/lib/python3.6/site-packages/sklearn/metrics/_classification.py:1272: UndefinedMetricWarning: Recall and F-score are ill-defined and being set to 0.0 in labels with no true samples. Use `zero_division` parameter to control this behavior.\n",
      "  _warn_prf(average, modifier, msg_start, len(result))\n",
      "/home/himaninegi/.local/lib/python3.6/site-packages/sklearn/metrics/_classification.py:1272: UndefinedMetricWarning: Recall is ill-defined and being set to 0.0 in labels with no true samples. Use `zero_division` parameter to control this behavior.\n",
      "  _warn_prf(average, modifier, msg_start, len(result))\n"
     ]
    }
   ],
   "source": [
    "isolation_forest(X_train,X_test,y_train,y_test,0.2,0.1)\n"
   ]
  },
  {
   "cell_type": "code",
   "execution_count": 35,
   "metadata": {},
   "outputs": [],
   "source": [
    "def mcd_model(X_train,X_test,y_train,y_test,split,contamination):\n",
    "   \n",
    "        \n",
    "    X_train=X_train.fillna(0)\n",
    "\n",
    "    X_test=X_test.fillna(0)\n",
    "    print(\"results for splitting \",1-split,split)\n",
    "    print(X_train.shape,X_test.shape,y_train.shape,y_test.shape)\n",
    "    \n",
    "    print(\"contamination is \",contamination)\n",
    "    mcd_model = EllipticEnvelope(contamination=contamination)\n",
    "    mcd_model.fit(X_train)\n",
    "    fraud_pred = mcd_model.predict(X_test)\n",
    "    \n",
    "    print(\"unique fraud pred\",np.unique(fraud_pred))\n",
    "    \n",
    "    tn, fp, fn, tp = confusion_matrix(y_test,fraud_pred).ravel()\n",
    "    \n",
    "    print(\"true negative: \",tn,\"false positive\",fp,\"false negative\",fn,\"true positive\",tp)\n",
    "    \n",
    "    print(classification_report(y_test,fraud_pred))\n",
    "    print(\"Recall is \",recall_score(y_test,fraud_pred, average=None))\n",
    "\n",
    "    \n",
    "    \n",
    "    "
   ]
  },
  {
   "cell_type": "code",
   "execution_count": 36,
   "metadata": {},
   "outputs": [
    {
     "name": "stdout",
     "output_type": "stream",
     "text": [
      "results for splitting  0.8 0.2\n",
      "(6277, 5) (1570, 5) (6277,) (1570,)\n",
      "contamination is  0.1\n"
     ]
    },
    {
     "name": "stderr",
     "output_type": "stream",
     "text": [
      "/home/himaninegi/.local/lib/python3.6/site-packages/sklearn/covariance/_robust_covariance.py:644: UserWarning: The covariance matrix associated to your dataset is not full rank\n",
      "  warnings.warn(\"The covariance matrix associated to your dataset \"\n"
     ]
    },
    {
     "name": "stdout",
     "output_type": "stream",
     "text": [
      "unique fraud pred [-1  1]\n",
      "true negative:  0 false positive 0 false negative 155 true positive 1415\n",
      "              precision    recall  f1-score   support\n",
      "\n",
      "          -1       0.00      0.00      0.00         0\n",
      "           1       1.00      0.90      0.95      1570\n",
      "\n",
      "    accuracy                           0.90      1570\n",
      "   macro avg       0.50      0.45      0.47      1570\n",
      "weighted avg       1.00      0.90      0.95      1570\n",
      "\n",
      "Recall is  [0.         0.90127389]\n"
     ]
    },
    {
     "name": "stderr",
     "output_type": "stream",
     "text": [
      "/home/himaninegi/.local/lib/python3.6/site-packages/sklearn/metrics/_classification.py:1272: UndefinedMetricWarning: Recall and F-score are ill-defined and being set to 0.0 in labels with no true samples. Use `zero_division` parameter to control this behavior.\n",
      "  _warn_prf(average, modifier, msg_start, len(result))\n",
      "/home/himaninegi/.local/lib/python3.6/site-packages/sklearn/metrics/_classification.py:1272: UndefinedMetricWarning: Recall is ill-defined and being set to 0.0 in labels with no true samples. Use `zero_division` parameter to control this behavior.\n",
      "  _warn_prf(average, modifier, msg_start, len(result))\n"
     ]
    }
   ],
   "source": [
    "mcd_model(X_train,X_test,y_train,y_test,0.2,0.1)"
   ]
  },
  {
   "cell_type": "code",
   "execution_count": 39,
   "metadata": {},
   "outputs": [],
   "source": [
    "def lof_predict(model, trainX, testX):\n",
    "\t# create one large dataset\n",
    "\tcomposite = vstack((trainX, testX))\n",
    "\t# make prediction on composite dataset\n",
    "\tyhat = model.fit_predict(composite)\n",
    "\t# return just the predictions on the test set\n",
    "\treturn yhat[len(trainX):]"
   ]
  },
  {
   "cell_type": "code",
   "execution_count": 40,
   "metadata": {},
   "outputs": [],
   "source": [
    "def lof_model(X_train,X_test,y_train,y_test,split,contamination):\n",
    "    \n",
    "        \n",
    "    X_train=X_train.fillna(0)\n",
    "\n",
    "    X_test=X_test.fillna(0)\n",
    "    \n",
    "    print(\"results for splitting \",1-split,split)\n",
    "    print(X_train.shape,X_test.shape,y_train.shape,y_test.shape)\n",
    "    \n",
    "    print(\"contamination is \",contamination)\n",
    "    lof_model = LocalOutlierFactor(contamination=contamination)\n",
    "    lof_model.fit(X_train)\n",
    "    fraud_pred = lof_predict(lof_model, X_train,X_test)\n",
    "    \n",
    "    print(\"unique fraud pred\",np.unique(fraud_pred))\n",
    "    \n",
    "    tn, fp, fn, tp = confusion_matrix(y_test,fraud_pred).ravel()\n",
    "    \n",
    "    print(\"true negative: \",tn,\"false positive\",fp,\"false negative\",fn,\"true positive\",tp)\n",
    "    \n",
    "    print(classification_report(y_test,fraud_pred))\n",
    "    print(\"Recall is \",recall_score(y_test,fraud_pred, average=None))\n",
    "\n",
    "    \n",
    "    "
   ]
  },
  {
   "cell_type": "code",
   "execution_count": 41,
   "metadata": {},
   "outputs": [
    {
     "name": "stdout",
     "output_type": "stream",
     "text": [
      "results for splitting  0.8 0.2\n",
      "(6277, 5) (1570, 5) (6277,) (1570,)\n",
      "contamination is  0.1\n",
      "unique fraud pred [-1  1]\n",
      "true negative:  0 false positive 0 false negative 166 true positive 1404\n",
      "              precision    recall  f1-score   support\n",
      "\n",
      "          -1       0.00      0.00      0.00         0\n",
      "           1       1.00      0.89      0.94      1570\n",
      "\n",
      "    accuracy                           0.89      1570\n",
      "   macro avg       0.50      0.45      0.47      1570\n",
      "weighted avg       1.00      0.89      0.94      1570\n",
      "\n",
      "Recall is  [0.         0.89426752]\n"
     ]
    },
    {
     "name": "stderr",
     "output_type": "stream",
     "text": [
      "/home/himaninegi/.local/lib/python3.6/site-packages/sklearn/metrics/_classification.py:1272: UndefinedMetricWarning: Recall and F-score are ill-defined and being set to 0.0 in labels with no true samples. Use `zero_division` parameter to control this behavior.\n",
      "  _warn_prf(average, modifier, msg_start, len(result))\n",
      "/home/himaninegi/.local/lib/python3.6/site-packages/sklearn/metrics/_classification.py:1272: UndefinedMetricWarning: Recall is ill-defined and being set to 0.0 in labels with no true samples. Use `zero_division` parameter to control this behavior.\n",
      "  _warn_prf(average, modifier, msg_start, len(result))\n"
     ]
    }
   ],
   "source": [
    "lof_model(X_train,X_test,y_train,y_test,0.2,0.1)"
   ]
  },
  {
   "cell_type": "markdown",
   "metadata": {},
   "source": [
    "# For Likes data"
   ]
  },
  {
   "cell_type": "code",
   "execution_count": 398,
   "metadata": {},
   "outputs": [
    {
     "name": "stdout",
     "output_type": "stream",
     "text": [
      "Index(['id', 'Activeness', 'duration2', 'Favorability', 'daysRate', 'Target'], dtype='object')\n"
     ]
    }
   ],
   "source": [
    "df=pd.read_csv('dummy_likedata.csv',sep='\\t')\n",
    "df.columns\n",
    "\n",
    "df.drop(columns=['Unnamed: 0','comment_count', 'description', 'duration', 'genre',\n",
    "       'is_family_friendly', 'is_paid', 'is_unlisted', 'title', 'upload_date','dislikes', 'likes', 'views', 'channel_id', 'is_verified', 'name','video_days'],axis=1,inplace=True)\n",
    "\n",
    "df['Target']=1\n",
    "X_train, X_test, y_train, y_test = train_test_split(df.drop(columns=['Target','id'],axis=1),df['Target'], test_size=0.2, random_state=42)\n",
    "\n",
    "X_train.shape,X_test.shape,y_train.shape,y_test.shape\n",
    "\n",
    "print(df.columns)\n",
    "\n",
    "X_train=X_train.fillna(0)\n",
    "\n",
    "X_test=X_test.fillna(0)\n"
   ]
  },
  {
   "cell_type": "code",
   "execution_count": 399,
   "metadata": {},
   "outputs": [
    {
     "data": {
      "text/plain": [
       "((36457, 4), (9115, 4), (36457,), (9115,))"
      ]
     },
     "execution_count": 399,
     "metadata": {},
     "output_type": "execute_result"
    }
   ],
   "source": [
    "X_train.shape,X_test.shape,y_train.shape,y_test.shape"
   ]
  },
  {
   "cell_type": "code",
   "execution_count": 400,
   "metadata": {},
   "outputs": [],
   "source": [
    "def svm_model2(X_train,X_test,y_train,y_test,split,contamination):\n",
    "    \n",
    "    \n",
    "    #X_train, X_test, y_train, y_test = train_test_split(df_channel.drop(columns=['target','channel_id'],axis=1),df_channel['target'], test_size=split, random_state=42)\n",
    "\n",
    "    \n",
    "    print(\"results for splitting \",1-split,split)\n",
    "    print(X_train.shape,X_test.shape,y_train.shape,y_test.shape)\n",
    "    print(X_train.columns)\n",
    "    print(X_train.head(2))\n",
    "    print(\"nu is \",contamination)\n",
    "    \n",
    "    oneclass = svm.OneClassSVM(kernel='poly', gamma=0.001, nu=contamination)\n",
    "\n",
    "    oneclass.fit(X_train)\n",
    "   \n",
    "    fraud_pred = oneclass.predict(X_test)\n",
    "    \n",
    "    print(\"unique fraud pred\",np.unique(fraud_pred))\n",
    "    \n",
    "    tn, fp, fn, tp = confusion_matrix(y_test,fraud_pred).ravel()\n",
    "    \n",
    "    print(\"true negative: \",tn,\"false positive\",fp,\"false negative\",fn,\"true positive\",tp)\n",
    "    \n",
    "    print(classification_report(y_test,fraud_pred))\n",
    "    print(\"Recall is \",recall_score(y_test,fraud_pred, average=None))\n"
   ]
  },
  {
   "cell_type": "code",
   "execution_count": 401,
   "metadata": {},
   "outputs": [
    {
     "name": "stdout",
     "output_type": "stream",
     "text": [
      "results for splitting  0.8 0.2\n",
      "(36457, 4) (9115, 4) (36457,) (9115,)\n",
      "Index(['Activeness', 'duration2', 'Favorability', 'daysRate'], dtype='object')\n",
      "       Activeness  duration2  Favorability   daysRate\n",
      "7720     0.012022         17      0.109091  11.385475\n",
      "30585    0.160000          5      0.058824   0.183486\n",
      "nu is  0.1\n",
      "unique fraud pred [-1  1]\n",
      "true negative:  0 false positive 0 false negative 807 true positive 8308\n",
      "              precision    recall  f1-score   support\n",
      "\n",
      "          -1       0.00      0.00      0.00         0\n",
      "           1       1.00      0.91      0.95      9115\n",
      "\n",
      "    accuracy                           0.91      9115\n",
      "   macro avg       0.50      0.46      0.48      9115\n",
      "weighted avg       1.00      0.91      0.95      9115\n",
      "\n",
      "Recall is  [0.         0.91146462]\n"
     ]
    }
   ],
   "source": [
    "svm_model2(X_train,X_test,y_train,y_test,0.2,0.1)\n"
   ]
  },
  {
   "cell_type": "code",
   "execution_count": 49,
   "metadata": {},
   "outputs": [
    {
     "name": "stdout",
     "output_type": "stream",
     "text": [
      "results for splitting  0.8 0.2\n",
      "(36457, 4) (9115, 4) (36457,) (9115,)\n",
      "contamination is  0.1\n",
      "unique fraud pred [-1  1]\n",
      "true negative:  0 false positive 0 false negative 888 true positive 8227\n",
      "              precision    recall  f1-score   support\n",
      "\n",
      "          -1       0.00      0.00      0.00         0\n",
      "           1       1.00      0.90      0.95      9115\n",
      "\n",
      "    accuracy                           0.90      9115\n",
      "   macro avg       0.50      0.45      0.47      9115\n",
      "weighted avg       1.00      0.90      0.95      9115\n",
      "\n",
      "Recall is  [0.         0.90257817]\n"
     ]
    },
    {
     "name": "stderr",
     "output_type": "stream",
     "text": [
      "/home/himaninegi/.local/lib/python3.6/site-packages/sklearn/metrics/_classification.py:1272: UndefinedMetricWarning: Recall and F-score are ill-defined and being set to 0.0 in labels with no true samples. Use `zero_division` parameter to control this behavior.\n",
      "  _warn_prf(average, modifier, msg_start, len(result))\n",
      "/home/himaninegi/.local/lib/python3.6/site-packages/sklearn/metrics/_classification.py:1272: UndefinedMetricWarning: Recall is ill-defined and being set to 0.0 in labels with no true samples. Use `zero_division` parameter to control this behavior.\n",
      "  _warn_prf(average, modifier, msg_start, len(result))\n"
     ]
    }
   ],
   "source": [
    "isolation_forest(X_train,X_test,y_train,y_test,0.2,0.1)\n"
   ]
  },
  {
   "cell_type": "code",
   "execution_count": 50,
   "metadata": {},
   "outputs": [
    {
     "name": "stdout",
     "output_type": "stream",
     "text": [
      "results for splitting  0.8 0.2\n",
      "(36457, 4) (9115, 4) (36457,) (9115,)\n",
      "contamination is  0.1\n",
      "unique fraud pred [-1  1]\n",
      "true negative:  0 false positive 0 false negative 908 true positive 8207\n",
      "              precision    recall  f1-score   support\n",
      "\n",
      "          -1       0.00      0.00      0.00         0\n",
      "           1       1.00      0.90      0.95      9115\n",
      "\n",
      "    accuracy                           0.90      9115\n",
      "   macro avg       0.50      0.45      0.47      9115\n",
      "weighted avg       1.00      0.90      0.95      9115\n",
      "\n",
      "Recall is  [0.         0.90038398]\n"
     ]
    },
    {
     "name": "stderr",
     "output_type": "stream",
     "text": [
      "/home/himaninegi/.local/lib/python3.6/site-packages/sklearn/metrics/_classification.py:1272: UndefinedMetricWarning: Recall and F-score are ill-defined and being set to 0.0 in labels with no true samples. Use `zero_division` parameter to control this behavior.\n",
      "  _warn_prf(average, modifier, msg_start, len(result))\n",
      "/home/himaninegi/.local/lib/python3.6/site-packages/sklearn/metrics/_classification.py:1272: UndefinedMetricWarning: Recall is ill-defined and being set to 0.0 in labels with no true samples. Use `zero_division` parameter to control this behavior.\n",
      "  _warn_prf(average, modifier, msg_start, len(result))\n"
     ]
    }
   ],
   "source": [
    "mcd_model(X_train,X_test,y_train,y_test,0.2,0.1)"
   ]
  },
  {
   "cell_type": "code",
   "execution_count": 51,
   "metadata": {},
   "outputs": [
    {
     "name": "stdout",
     "output_type": "stream",
     "text": [
      "results for splitting  0.8 0.2\n",
      "(36457, 4) (9115, 4) (36457,) (9115,)\n",
      "contamination is  0.1\n",
      "unique fraud pred [-1  1]\n",
      "true negative:  0 false positive 0 false negative 918 true positive 8197\n",
      "              precision    recall  f1-score   support\n",
      "\n",
      "          -1       0.00      0.00      0.00         0\n",
      "           1       1.00      0.90      0.95      9115\n",
      "\n",
      "    accuracy                           0.90      9115\n",
      "   macro avg       0.50      0.45      0.47      9115\n",
      "weighted avg       1.00      0.90      0.95      9115\n",
      "\n",
      "Recall is  [0.         0.89928689]\n"
     ]
    },
    {
     "name": "stderr",
     "output_type": "stream",
     "text": [
      "/home/himaninegi/.local/lib/python3.6/site-packages/sklearn/metrics/_classification.py:1272: UndefinedMetricWarning: Recall and F-score are ill-defined and being set to 0.0 in labels with no true samples. Use `zero_division` parameter to control this behavior.\n",
      "  _warn_prf(average, modifier, msg_start, len(result))\n",
      "/home/himaninegi/.local/lib/python3.6/site-packages/sklearn/metrics/_classification.py:1272: UndefinedMetricWarning: Recall is ill-defined and being set to 0.0 in labels with no true samples. Use `zero_division` parameter to control this behavior.\n",
      "  _warn_prf(average, modifier, msg_start, len(result))\n"
     ]
    }
   ],
   "source": [
    "lof_model(X_train,X_test,y_train,y_test,0.2,0.1)"
   ]
  },
  {
   "cell_type": "code",
   "execution_count": null,
   "metadata": {},
   "outputs": [],
   "source": []
  },
  {
   "cell_type": "code",
   "execution_count": null,
   "metadata": {},
   "outputs": [],
   "source": []
  }
 ],
 "metadata": {
  "kernelspec": {
   "display_name": "Python 3",
   "language": "python",
   "name": "python3"
  },
  "language_info": {
   "codemirror_mode": {
    "name": "ipython",
    "version": 3
   },
   "file_extension": ".py",
   "mimetype": "text/x-python",
   "name": "python",
   "nbconvert_exporter": "python",
   "pygments_lexer": "ipython3",
   "version": "3.6.8"
  }
 },
 "nbformat": 4,
 "nbformat_minor": 2
}
